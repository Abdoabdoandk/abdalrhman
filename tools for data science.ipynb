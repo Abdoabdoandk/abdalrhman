{
 "cells": [
  {
   "cell_type": "markdown",
   "metadata": {},
   "source": [
    "Assignment\n",
    "Introduction to Data Science\n",
    "Data science is an interdisciplinary field that combines scientific methods, algorithms, and systems to extract knowledge and insights from structured and unstructured data. It encompasses various techniques such as data analysis, statistics, machine learning, and data visualization.\n",
    "\n",
    "Importance of Data Science\n",
    "In today's digital age, massive amounts of data are being generated across various industries and sectors. Data science plays a crucial role in analyzing and interpreting this data to make informed decisions, gain valuable insights, and drive innovation. It helps organizations understand patterns, trends, and correlations within their data, which can lead to improved strategies, increased efficiency, and competitive advantages.\n",
    "\n",
    "Programming Languages for Data Science\n",
    "Data science involves working with large datasets and performing complex analyses. Here are some popular programming languages commonly used in data science:\n",
    "\n",
    "Python\n",
    "R\n",
    "SQL\n",
    "Java\n",
    "MATLAB\n",
    "Data Science Libraries\n",
    "Data science libraries provide powerful tools and functions that simplify data manipulation, analysis, and modeling. Here are some widely used data science libraries:\n",
    "\n",
    "Python\n",
    "NumPy\n",
    "Pandas\n",
    "scikit-learn\n",
    "TensorFlow\n",
    "PyTorch\n",
    "Matplotlib\n",
    "Seaborn\n",
    "R\n",
    "ggplot\n",
    "caret\n",
    "plotly\n",
    "leaflet\n",
    "lattice\n",
    "Data Science Tools\n",
    "Here is a table listing some popular Data Science tools:\n",
    "\n",
    "Tool\tDescription\n",
    "\n",
    "Python :\tA versatile programming language widely used for data manipulation, analysis, and modeling.\n",
    "R :\tA language specifically designed for statistical computing and graphics.\n",
    "SQL :\tA language used for managing and querying relational databases.\n",
    "Jupyter Notebook :\tAn interactive notebook that allows combining code, visualizations, and documentation.\n",
    "Apache Spark :\tA distributed computing framework for processing large-scale datasets.\n",
    "TensorFlow :\tAn open-source library for machine learning and deep learning.\n",
    "PyTorch :\tA deep learning framework known for its dynamic computation graphs.\n",
    "MATLAB :\tA proprietary numerical computing environment for data analysis and visualization.\n",
    "Tableau :\tA powerful data visualization tool for creating interactive dashboards and reports.\n",
    "Power BI :\tA business intelligence tool for data visualization, reporting, and interactive dashboards.\n",
    "\n",
    "\n",
    "Arithmetic Expression Examples\n",
    "Arithmetic expressions are fundamental in mathematics and programming. They involve performing mathematical operations on numerical values. Here are some examples of common arithmetic expressions:\n",
    "\n",
    "Addition: Addition is represented by the + symbol. For example:\n",
    "\n",
    "2 + 3 evaluates to 5.\n",
    "8.5 + 4.2 evaluates to 12.7.\n",
    "Subtraction: Subtraction is represented by the - symbol. For example:\n",
    "\n",
    "7 - 4 evaluates to 3.\n",
    "10.3 - 2.7 evaluates to 7.6.\n",
    "Multiplication: Multiplication is represented by the * symbol. For example:\n",
    "\n",
    "5 * 6 evaluates to 30.\n",
    "3.2 * 2.5 evaluates to 8.0.\n",
    "Division: Division is represented by the / symbol. For example:\n",
    "\n",
    "10 / 2 evaluates to 5.\n",
    "15.6 / 3.0 evaluates to 5.2.\n",
    "Exponentiation: Exponentiation is represented by the ** symbol. For example:\n",
    "\n",
    "2 ** 3 evaluates to 8.\n",
    "4.0 ** 0.5 evaluates to 2.0."
   ]
  },
  {
   "cell_type": "code",
   "execution_count": 1,
   "metadata": {},
   "outputs": [
    {
     "name": "stdout",
     "output_type": "stream",
     "text": [
      "Product: 24\n",
      "Sum: 10\n"
     ]
    }
   ],
   "source": [
    "# Multiply and Add Numbers\n",
    "\n",
    "# Define two numbers\n",
    "num1 = 4\n",
    "num2 = 6\n",
    "\n",
    "# Multiply the numbers\n",
    "product = num1 * num2\n",
    "print(\"Product:\", product)\n",
    "\n",
    "# Add the numbers\n",
    "sum = num1 + num2\n",
    "print(\"Sum:\", sum)"
   ]
  },
  {
   "cell_type": "code",
   "execution_count": 2,
   "metadata": {},
   "outputs": [
    {
     "name": "stdout",
     "output_type": "stream",
     "text": [
      "Minutes: 150\n",
      "Hours: 2.5\n"
     ]
    }
   ],
   "source": [
    "# Convert Minutes to Hours\n",
    "\n",
    "minutes = 150\n",
    "\n",
    "# Convert minutes to hours\n",
    "hours = minutes / 60\n",
    "\n",
    "# Print the result\n",
    "print(\"Minutes:\", minutes)\n",
    "print(\"Hours:\", hours)"
   ]
  },
  {
   "cell_type": "markdown",
   "metadata": {},
   "source": [
    "Throughout this course, we aim to achieve the following objectives:\n",
    "Gain an understanding of each tool's purpose, the programming languages they support, and their features and limitations.\n",
    "\n",
    "Develop hands-on experience with Data Science Tools through practical exercises and projects.\n",
    "\n",
    "Test and run code in Python, R, or Scala using the cloud-based Skills Network Labs.\n",
    "\n",
    "Create a final project using a Jupyter Notebook to demonstrate proficiency in preparing a notebook, writing Markdown, and sharing work with peers.\n",
    "\n",
    "Author: Abdalrhman khaled"
   ]
  }
 ],
 "metadata": {
  "kernelspec": {
   "display_name": "Python 3",
   "language": "python",
   "name": "python3"
  },
  "language_info": {
   "codemirror_mode": {
    "name": "ipython",
    "version": 3
   },
   "file_extension": ".py",
   "mimetype": "text/x-python",
   "name": "python",
   "nbconvert_exporter": "python",
   "pygments_lexer": "ipython3",
   "version": "3.9.5"
  },
  "orig_nbformat": 4
 },
 "nbformat": 4,
 "nbformat_minor": 2
}
